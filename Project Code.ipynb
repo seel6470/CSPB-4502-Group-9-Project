{
 "cells": [
  {
   "cell_type": "markdown",
   "id": "7822258c-b70b-4fb1-a306-4e014794eb0a",
   "metadata": {},
   "source": [
    "# Trends and Analysis of eCommerce Data"
   ]
  },
  {
   "cell_type": "markdown",
   "id": "e104092a-7114-4de6-bcdb-e3076e908cda",
   "metadata": {},
   "source": [
    "Francesca Barrios\n",
    "frba7936@colorado.edu\n",
    "\n",
    "Laura Brown\n",
    "labr1398@colorado.edu\n",
    "\n",
    "Seth Ely  \n",
    "seel6470@colorado.edu\n",
    "\n",
    "Darby Hansen  \n",
    "daha2377@colorado.edu "
   ]
  },
  {
   "cell_type": "markdown",
   "id": "60b51ab9-6356-412e-bc73-fcd3db61cd69",
   "metadata": {},
   "source": [
    "## Data Cleaning"
   ]
  },
  {
   "cell_type": "code",
   "execution_count": 7,
   "id": "48c3926b-fb90-46ab-8f8a-99f5581cdee4",
   "metadata": {},
   "outputs": [],
   "source": [
    "# load datasets and merge as single pandas dataframe\n",
    "\n"
   ]
  },
  {
   "cell_type": "code",
   "execution_count": 8,
   "id": "3bc3bb84-80d1-4586-b53d-5fe59c421435",
   "metadata": {},
   "outputs": [],
   "source": [
    "# parse date and time from event_time feature\n",
    "\n"
   ]
  },
  {
   "cell_type": "code",
   "execution_count": 9,
   "id": "2323c601-7839-4b0c-9162-264f5eb900f5",
   "metadata": {},
   "outputs": [],
   "source": [
    "# fill in missing values in category code\n",
    "\n"
   ]
  },
  {
   "cell_type": "code",
   "execution_count": 10,
   "id": "d4848ceb-656a-4b15-9bbc-9cdcd087e3f6",
   "metadata": {},
   "outputs": [],
   "source": [
    "# remove duplicate entries\n",
    "\n"
   ]
  },
  {
   "cell_type": "markdown",
   "id": "93fed673-26c2-485f-b211-dd3e87dfaabd",
   "metadata": {},
   "source": [
    "### Which brands, items, or item categories exhibit the highest volume of sales during the specified period? "
   ]
  },
  {
   "cell_type": "code",
   "execution_count": 11,
   "id": "06b9b727-726e-40f5-aaa1-eec41800114e",
   "metadata": {},
   "outputs": [],
   "source": [
    "# filter by purchased\n",
    "\n",
    "\n",
    "# group by brand\n",
    "\n",
    "\n",
    "# calculate sum of price\n",
    "\n",
    "\n",
    "# group by item\n",
    "\n",
    "\n",
    "# calculate sum of price\n",
    "\n",
    "\n",
    "# group by category\n",
    "\n",
    "\n",
    "# calculate sum of price\n",
    "\n",
    "\n",
    "# vizualization (table, graph) for brand/item/category\n",
    "\n"
   ]
  },
  {
   "cell_type": "markdown",
   "id": "051da2c3-18e4-4017-bb18-f3d6acf92f72",
   "metadata": {},
   "source": [
    "### Are there discernible trends in sales performance across different brands and categories? "
   ]
  },
  {
   "cell_type": "code",
   "execution_count": 12,
   "id": "9983b8e6-78ed-446b-acd1-e173038c4d04",
   "metadata": {},
   "outputs": [],
   "source": [
    "# filter by purchased\n",
    "\n",
    "\n",
    "# filter by top brands and/or categories\n",
    "\n",
    "\n",
    "# graph brands/categories over time\n",
    "# (day/week/month whichever works best considering the large amount of entries)"
   ]
  },
  {
   "cell_type": "markdown",
   "id": "f9625d88-0875-4d50-860e-4b5aba0df326",
   "metadata": {},
   "source": [
    "### Among the features of brands, items, or item categories, which ones demonstrate the highest purchases per view ratio? "
   ]
  },
  {
   "cell_type": "code",
   "execution_count": 13,
   "id": "031e7fa1-8743-4127-aac0-9191469f6ad8",
   "metadata": {},
   "outputs": [],
   "source": [
    "# groupby brand\n",
    "\n",
    "\n",
    "# Calculate number purchased / number of entries\n",
    "\n",
    "\n",
    "# groupby item\n",
    "\n",
    "\n",
    "# Calculate number purchased / number of entries\n",
    "\n",
    "\n",
    "# groupby category\n",
    "\n",
    "\n",
    "# Calculate number purchased / number of entries"
   ]
  },
  {
   "cell_type": "markdown",
   "id": "c24da4f7-aa85-4bba-bd1f-ebbf2bad236d",
   "metadata": {},
   "source": [
    "### What factors contribute to the rate of purchases per view of these brands, items, or item categories? "
   ]
  },
  {
   "cell_type": "code",
   "execution_count": 14,
   "id": "5d14641c-17ca-42e2-b204-5efd8370fe7a",
   "metadata": {},
   "outputs": [],
   "source": [
    "# Interpret"
   ]
  },
  {
   "cell_type": "markdown",
   "id": "cc03387d-4f92-4d8f-813b-2f0424cbafd0",
   "metadata": {},
   "source": [
    "### Can brand type lead to customer retention (customer’s purchase frequency after initial purchase)? "
   ]
  },
  {
   "cell_type": "code",
   "execution_count": 15,
   "id": "45e5d6ba-9e6a-47ea-a146-69606a6e01b3",
   "metadata": {},
   "outputs": [],
   "source": [
    "# groupby user_id\n",
    "\n",
    "\n",
    "# calculate percentage of purchases that are one brand over total purchases"
   ]
  },
  {
   "cell_type": "markdown",
   "id": "1b35bc9f-8d7b-4d20-a121-94a6648b6764",
   "metadata": {},
   "source": [
    "### Can seasonal patterns be identified within the 7-month window of the dataset? "
   ]
  },
  {
   "cell_type": "code",
   "execution_count": 16,
   "id": "72017b26-7367-4c5c-999e-cbea16bbc6c6",
   "metadata": {},
   "outputs": [],
   "source": [
    "# filter by purchased\n",
    "\n",
    "\n",
    "# graph brands/categories over time\n",
    "# (day/week/month whichever works best considering the large amount of entries)"
   ]
  },
  {
   "cell_type": "markdown",
   "id": "35a74930-a153-4100-92d2-094cb38fe222",
   "metadata": {},
   "source": [
    "### How do seasonal variations impact the sales and purchasing behaviors of consumers across individual brands and categories? "
   ]
  },
  {
   "cell_type": "code",
   "execution_count": null,
   "id": "8623c9b1-079e-4dc8-9644-86adb2997060",
   "metadata": {},
   "outputs": [],
   "source": []
  },
  {
   "cell_type": "markdown",
   "id": "925e4146-942c-47fb-aa52-84beef9e5d9c",
   "metadata": {},
   "source": [
    "### Can we find any trending patterns within our item sets outside of seasonal trend behavior – which can be used to predict popularity purchase windows? "
   ]
  },
  {
   "cell_type": "code",
   "execution_count": null,
   "id": "cb2d5ab5-6abd-412b-b8bc-0e97857deca8",
   "metadata": {},
   "outputs": [],
   "source": []
  },
  {
   "cell_type": "markdown",
   "id": "f208ff74-de04-4f4d-aae2-0443f3d9bcb0",
   "metadata": {},
   "source": [
    "## Evaluation"
   ]
  },
  {
   "cell_type": "markdown",
   "id": "453dfb21-b5ed-4cd9-9946-0df4e1ef328a",
   "metadata": {},
   "source": [
    "### Accuracy"
   ]
  },
  {
   "cell_type": "code",
   "execution_count": 17,
   "id": "f49fd0dc-c466-4969-90a0-4f75b52ee9de",
   "metadata": {},
   "outputs": [],
   "source": [
    "# Predictive model with target class event_type (purchased = 1, view/remove from cart = 0)"
   ]
  },
  {
   "cell_type": "code",
   "execution_count": 18,
   "id": "1c68cd94-cd31-47a6-99bc-7950e7d143b4",
   "metadata": {},
   "outputs": [],
   "source": [
    "# Cluster algorithm for-you recommendations"
   ]
  },
  {
   "cell_type": "markdown",
   "id": "237870bc-9af7-4197-af21-b9131722c4c9",
   "metadata": {},
   "source": [
    "### Relevance"
   ]
  },
  {
   "cell_type": "markdown",
   "id": "00c8af4c-c72e-4cd2-94fd-2e9104d23698",
   "metadata": {},
   "source": [
    "_discuss findings in terms of real-word needs_"
   ]
  },
  {
   "cell_type": "markdown",
   "id": "294bf0bd-8082-4ee3-a82b-e2ec53967f03",
   "metadata": {},
   "source": [
    "### Interpretability"
   ]
  },
  {
   "cell_type": "markdown",
   "id": "fb6657f6-afaa-4a12-8f44-e7a9a008c033",
   "metadata": {},
   "source": [
    "_discuss visualizations and how understandable the findings are to the general public_"
   ]
  }
 ],
 "metadata": {
  "kernelspec": {
   "display_name": "Python 3 (ipykernel)",
   "language": "python",
   "name": "python3"
  },
  "language_info": {
   "codemirror_mode": {
    "name": "ipython",
    "version": 3
   },
   "file_extension": ".py",
   "mimetype": "text/x-python",
   "name": "python",
   "nbconvert_exporter": "python",
   "pygments_lexer": "ipython3",
   "version": "3.10.8"
  }
 },
 "nbformat": 4,
 "nbformat_minor": 5
}
